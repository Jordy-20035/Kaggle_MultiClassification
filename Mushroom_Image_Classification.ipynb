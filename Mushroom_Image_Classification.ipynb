{
  "nbformat": 4,
  "nbformat_minor": 0,
  "metadata": {
    "colab": {
      "provenance": [],
      "gpuType": "T4",
      "mount_file_id": "1bMUeju6gFzVabfCPjCY5Sq33rZEH5UgT",
      "authorship_tag": "ABX9TyPzevnO61IB0SEt6eoZgRDy",
      "include_colab_link": true
    },
    "kernelspec": {
      "name": "python3",
      "display_name": "Python 3"
    },
    "language_info": {
      "name": "python"
    },
    "accelerator": "GPU"
  },
  "cells": [
    {
      "cell_type": "markdown",
      "metadata": {
        "id": "view-in-github",
        "colab_type": "text"
      },
      "source": [
        "<a href=\"https://colab.research.google.com/github/Jordy-20035/Kaggle_MultiClassification/blob/main/Mushroom_Image_Classification.ipynb\" target=\"_parent\"><img src=\"https://colab.research.google.com/assets/colab-badge.svg\" alt=\"Open In Colab\"/></a>"
      ]
    },
    {
      "cell_type": "code",
      "source": [
        "!pip install -q albumentations imbalanced-learn"
      ],
      "metadata": {
        "id": "1PHa-XJ3f7E8"
      },
      "execution_count": 1,
      "outputs": []
    },
    {
      "cell_type": "code",
      "source": [
        "# Mount Google Drive\n",
        "from google.colab import drive\n",
        "drive.mount('/content/drive')"
      ],
      "metadata": {
        "colab": {
          "base_uri": "https://localhost:8080/"
        },
        "id": "MTwUMGAYZMgF",
        "outputId": "5fd6c77d-fdf1-459e-e4e1-1f7519ad4a92"
      },
      "execution_count": 1,
      "outputs": [
        {
          "output_type": "stream",
          "name": "stdout",
          "text": [
            "Drive already mounted at /content/drive; to attempt to forcibly remount, call drive.mount(\"/content/drive\", force_remount=True).\n"
          ]
        }
      ]
    },
    {
      "cell_type": "code",
      "source": [
        "import tensorflow as tf\n",
        "from tensorflow.keras import layers, models, regularizers\n",
        "from tensorflow.keras.applications import EfficientNetB3\n",
        "from tensorflow.keras.optimizers import Adam\n",
        "from tensorflow.keras.callbacks import (\n",
        "    EarlyStopping, ReduceLROnPlateau,\n",
        "    ModelCheckpoint, CSVLogger, LearningRateScheduler\n",
        ")\n",
        "from sklearn.model_selection import train_test_split\n",
        "from sklearn.utils.class_weight import compute_class_weight\n",
        "from imblearn.over_sampling import RandomOverSampler\n",
        "import numpy as np\n",
        "import pandas as pd\n",
        "import os\n",
        "import matplotlib.pyplot as plt\n",
        "from pathlib import Path\n",
        "import albumentations as A"
      ],
      "metadata": {
        "id": "TCL2IrgTYe9z"
      },
      "execution_count": 1,
      "outputs": []
    },
    {
      "cell_type": "code",
      "source": [
        "# Configuration\n",
        "IMAGE_SIZE = (300, 300)\n",
        "BATCH_SIZE = 32\n",
        "NUM_CLASSES = 10\n",
        "EPOCHS = 100\n",
        "DATA_DIR = Path(\"/content/drive/MyDrive/dataset/\")\n",
        "MODEL_DIR = Path(\"/content/drive/MyDrive/Models/MushroomClassification/\")\n",
        "MODEL_DIR.mkdir(parents=True, exist_ok=True)"
      ],
      "metadata": {
        "id": "xYossa8uffO-"
      },
      "execution_count": 2,
      "outputs": []
    },
    {
      "cell_type": "code",
      "source": [
        "# Data Preparation\n",
        "def load_dataframe(csv_path):\n",
        "    df = pd.read_csv(csv_path)\n",
        "    df[\"Image\"] = df[\"Image\"].astype(str).str.zfill(5) + \".jpg\"\n",
        "    return df"
      ],
      "metadata": {
        "id": "1h9esCa3ZCdC"
      },
      "execution_count": 3,
      "outputs": []
    },
    {
      "cell_type": "code",
      "source": [
        "train_df = load_dataframe(\"/train.csv\")\n",
        "test_df = load_dataframe(\"/test.csv\")\n",
        "\n",
        "# Handle class imbalance in train_df\n",
        "ros = RandomOverSampler(sampling_strategy='auto')\n",
        "train_df, _ = ros.fit_resample(train_df, train_df['Mushroom'])\n",
        "\n",
        "# Train/Val split\n",
        "train_df, val_df = train_test_split(\n",
        "    train_df,\n",
        "    test_size=0.15,\n",
        "    stratify=train_df['Mushroom'],\n",
        "    random_state=42\n",
        ")"
      ],
      "metadata": {
        "id": "1_VzPcwGY_Xr"
      },
      "execution_count": 4,
      "outputs": []
    },
    {
      "cell_type": "code",
      "source": [
        "# Class weights calculation\n",
        "class_weights = compute_class_weight(\n",
        "    'balanced',\n",
        "    classes=np.unique(train_df['Mushroom']),\n",
        "    y=train_df['Mushroom']\n",
        ")\n",
        "class_weights = dict(enumerate(class_weights))\n",
        "\n",
        "# Albumentations augmentations\n",
        "aug = A.Compose([\n",
        "    A.HorizontalFlip(p=0.5),\n",
        "    A.VerticalFlip(p=0.3),\n",
        "    A.Rotate(limit=30, p=0.5),\n",
        "    A.RandomBrightnessContrast(brightness_limit=0.2, contrast_limit=0.2, p=0.3),\n",
        "    A.GaussianBlur(blur_limit=(3, 7), p=0.2),\n",
        "    #A.Cutout(num_holes=8, max_h_size=24, max_w_size=24, fill_value=0, p=0.5),\n",
        "])\n"
      ],
      "metadata": {
        "id": "kt-i6ddaY9dK"
      },
      "execution_count": 5,
      "outputs": []
    },
    {
      "cell_type": "code",
      "source": [
        "def augment_image(image):\n",
        "    image = image.numpy()  # Convert TensorFlow tensor to NumPy array\n",
        "    augmented_image = aug(image=image)['image']\n",
        "    return augmented_image"
      ],
      "metadata": {
        "id": "HGUpXIpjg-df"
      },
      "execution_count": 6,
      "outputs": []
    },
    {
      "cell_type": "code",
      "source": [
        "\n",
        "# Data Pipeline\n",
        "def load_image(image_path, label=None):\n",
        "    data_dir_str = str(DATA_DIR)  # Convert Path to string\n",
        "    full_path = tf.strings.join([data_dir_str, image_path], separator='/')\n",
        "\n",
        "    image = tf.io.read_file(full_path)\n",
        "    image = tf.image.decode_image(image, channels=3, expand_animations=False)\n",
        "    image = tf.image.resize(image, IMAGE_SIZE)\n",
        "    image = tf.py_function(augment_image, [image], Tout=tf.float32)\n",
        "    image.set_shape(IMAGE_SIZE + (3,))\n",
        "    image = image / 255.0\n",
        "    if label is not None:\n",
        "        return image, label\n",
        "    else:\n",
        "        return image"
      ],
      "metadata": {
        "id": "Yqbu_RhQY6_X"
      },
      "execution_count": 7,
      "outputs": []
    },
    {
      "cell_type": "code",
      "source": [
        "def create_dataset(df, labels=None, shuffle=False):\n",
        "    if labels is not None:\n",
        "        ds = tf.data.Dataset.from_tensor_slices(\n",
        "            (df['Image'].values, labels)\n",
        "        )\n",
        "    else:\n",
        "        ds = tf.data.Dataset.from_tensor_slices(\n",
        "            df['Image'].values\n",
        "        )\n",
        "\n",
        "    if shuffle:\n",
        "        if labels is not None:\n",
        "            ds = ds.shuffle(buffer_size=len(df)*2, reshuffle_each_iteration=True)\n",
        "        else:\n",
        "            ds = ds.shuffle(buffer_size=len(df), reshuffle_each_iteration=True)\n",
        "\n",
        "    if labels is not None:\n",
        "        ds = ds.map(lambda x, y: load_image(x, y), num_parallel_calls=tf.data.AUTOTUNE)\n",
        "    else:\n",
        "        ds = ds.map(load_image, num_parallel_calls=tf.data.AUTOTUNE)\n",
        "\n",
        "    if labels is not None:\n",
        "        ds = ds.batch(BATCH_SIZE).prefetch(tf.data.AUTOTUNE)\n",
        "    else:\n",
        "        ds = ds.batch(BATCH_SIZE).prefetch(tf.data.AUTOTUNE)\n",
        "\n",
        "    return ds\n"
      ],
      "metadata": {
        "id": "ky7BG12Jczid"
      },
      "execution_count": 8,
      "outputs": []
    },
    {
      "cell_type": "code",
      "source": [
        "print(train_df.columns)"
      ],
      "metadata": {
        "colab": {
          "base_uri": "https://localhost:8080/"
        },
        "id": "bse5J9n0jU_Z",
        "outputId": "799e1aa3-47de-457f-c3f6-00e010e9113e"
      },
      "execution_count": 9,
      "outputs": [
        {
          "output_type": "stream",
          "name": "stdout",
          "text": [
            "Index(['Image', 'Mushroom'], dtype='object')\n"
          ]
        }
      ]
    },
    {
      "cell_type": "code",
      "source": [
        "train_ds = create_dataset(train_df, labels=train_df['Mushroom'], shuffle=True)\n",
        "val_ds = create_dataset(val_df, labels=val_df['Mushroom'])\n",
        "test_ds = create_dataset(test_df)"
      ],
      "metadata": {
        "id": "sK4chU2AhU4K"
      },
      "execution_count": 10,
      "outputs": []
    },
    {
      "cell_type": "code",
      "source": [
        "# Custom F1 Metric\n",
        "class F1Score(tf.keras.metrics.Metric):\n",
        "    def __init__(self, name='f1_score', **kwargs):\n",
        "        super().__init__(name=name, **kwargs)\n",
        "        self.precision = tf.keras.metrics.Precision()\n",
        "        self.recall = tf.keras.metrics.Recall()\n",
        "\n",
        "    def update_state(self, y_true, y_pred, sample_weight=None):\n",
        "        y_pred = tf.argmax(y_pred, axis=1)\n",
        "        self.precision.update_state(y_true, y_pred, sample_weight)\n",
        "        self.recall.update_state(y_true, y_pred, sample_weight)\n",
        "\n",
        "    def result(self):\n",
        "        p = self.precision.result()\n",
        "        r = self.recall.result()\n",
        "        return 2 * ((p * r) / (p + r + tf.keras.backend.epsilon()))\n",
        "\n",
        "    def reset_states(self):\n",
        "        self.precision.reset_states()\n",
        "        self.recall.reset_states()"
      ],
      "metadata": {
        "id": "akwVYamLhyDE"
      },
      "execution_count": 11,
      "outputs": []
    },
    {
      "cell_type": "code",
      "source": [
        "print(DATA_DIR)"
      ],
      "metadata": {
        "colab": {
          "base_uri": "https://localhost:8080/"
        },
        "id": "kqFXgmyyc02R",
        "outputId": "bbde91fd-596d-4452-9cf7-60a70379e170"
      },
      "execution_count": 12,
      "outputs": [
        {
          "output_type": "stream",
          "name": "stdout",
          "text": [
            "/content/drive/MyDrive/dataset\n"
          ]
        }
      ]
    },
    {
      "cell_type": "code",
      "source": [
        "!ls {DATA_DIR}"
      ],
      "metadata": {
        "colab": {
          "base_uri": "https://localhost:8080/"
        },
        "collapsed": true,
        "id": "9n0vJt9zc5hf",
        "outputId": "2db23f0b-aa89-4bc6-99d1-31a6d2361562"
      },
      "execution_count": 13,
      "outputs": [
        {
          "output_type": "stream",
          "name": "stdout",
          "text": [
            "00001.jpg  00332.jpg  00663.jpg  00994.jpg  01325.jpg  01656.jpg  01987.jpg  02318.jpg\t02649.jpg\n",
            "00002.jpg  00333.jpg  00664.jpg  00995.jpg  01326.jpg  01657.jpg  01988.jpg  02319.jpg\t02650.jpg\n",
            "00003.jpg  00334.jpg  00665.jpg  00996.jpg  01327.jpg  01658.jpg  01989.jpg  02320.jpg\t02651.jpg\n",
            "00004.jpg  00335.jpg  00666.jpg  00997.jpg  01328.jpg  01659.jpg  01990.jpg  02321.jpg\t02652.jpg\n",
            "00005.jpg  00336.jpg  00667.jpg  00998.jpg  01329.jpg  01660.jpg  01991.jpg  02322.jpg\t02653.jpg\n",
            "00006.jpg  00337.jpg  00668.jpg  00999.jpg  01330.jpg  01661.jpg  01992.jpg  02323.jpg\t02654.jpg\n",
            "00007.jpg  00338.jpg  00669.jpg  01000.jpg  01331.jpg  01662.jpg  01993.jpg  02324.jpg\t02655.jpg\n",
            "00008.jpg  00339.jpg  00670.jpg  01001.jpg  01332.jpg  01663.jpg  01994.jpg  02325.jpg\t02656.jpg\n",
            "00009.jpg  00340.jpg  00671.jpg  01002.jpg  01333.jpg  01664.jpg  01995.jpg  02326.jpg\t02657.jpg\n",
            "00010.jpg  00341.jpg  00672.jpg  01003.jpg  01334.jpg  01665.jpg  01996.jpg  02327.jpg\t02658.jpg\n",
            "00011.jpg  00342.jpg  00673.jpg  01004.jpg  01335.jpg  01666.jpg  01997.jpg  02328.jpg\t02659.jpg\n",
            "00012.jpg  00343.jpg  00674.jpg  01005.jpg  01336.jpg  01667.jpg  01998.jpg  02329.jpg\t02660.jpg\n",
            "00013.jpg  00344.jpg  00675.jpg  01006.jpg  01337.jpg  01668.jpg  01999.jpg  02330.jpg\t02661.jpg\n",
            "00014.jpg  00345.jpg  00676.jpg  01007.jpg  01338.jpg  01669.jpg  02000.jpg  02331.jpg\t02662.jpg\n",
            "00015.jpg  00346.jpg  00677.jpg  01008.jpg  01339.jpg  01670.jpg  02001.jpg  02332.jpg\t02663.jpg\n",
            "00016.jpg  00347.jpg  00678.jpg  01009.jpg  01340.jpg  01671.jpg  02002.jpg  02333.jpg\t02664.jpg\n",
            "00017.jpg  00348.jpg  00679.jpg  01010.jpg  01341.jpg  01672.jpg  02003.jpg  02334.jpg\t02665.jpg\n",
            "00018.jpg  00349.jpg  00680.jpg  01011.jpg  01342.jpg  01673.jpg  02004.jpg  02335.jpg\t02666.jpg\n",
            "00019.jpg  00350.jpg  00681.jpg  01012.jpg  01343.jpg  01674.jpg  02005.jpg  02336.jpg\t02667.jpg\n",
            "00020.jpg  00351.jpg  00682.jpg  01013.jpg  01344.jpg  01675.jpg  02006.jpg  02337.jpg\t02668.jpg\n",
            "00021.jpg  00352.jpg  00683.jpg  01014.jpg  01345.jpg  01676.jpg  02007.jpg  02338.jpg\t02669.jpg\n",
            "00022.jpg  00353.jpg  00684.jpg  01015.jpg  01346.jpg  01677.jpg  02008.jpg  02339.jpg\t02670.jpg\n",
            "00023.jpg  00354.jpg  00685.jpg  01016.jpg  01347.jpg  01678.jpg  02009.jpg  02340.jpg\t02671.jpg\n",
            "00024.jpg  00355.jpg  00686.jpg  01017.jpg  01348.jpg  01679.jpg  02010.jpg  02341.jpg\t02672.jpg\n",
            "00025.jpg  00356.jpg  00687.jpg  01018.jpg  01349.jpg  01680.jpg  02011.jpg  02342.jpg\t02673.jpg\n",
            "00026.jpg  00357.jpg  00688.jpg  01019.jpg  01350.jpg  01681.jpg  02012.jpg  02343.jpg\t02674.jpg\n",
            "00027.jpg  00358.jpg  00689.jpg  01020.jpg  01351.jpg  01682.jpg  02013.jpg  02344.jpg\t02675.jpg\n",
            "00028.jpg  00359.jpg  00690.jpg  01021.jpg  01352.jpg  01683.jpg  02014.jpg  02345.jpg\t02676.jpg\n",
            "00029.jpg  00360.jpg  00691.jpg  01022.jpg  01353.jpg  01684.jpg  02015.jpg  02346.jpg\t02677.jpg\n",
            "00030.jpg  00361.jpg  00692.jpg  01023.jpg  01354.jpg  01685.jpg  02016.jpg  02347.jpg\t02678.jpg\n",
            "00031.jpg  00362.jpg  00693.jpg  01024.jpg  01355.jpg  01686.jpg  02017.jpg  02348.jpg\t02679.jpg\n",
            "00032.jpg  00363.jpg  00694.jpg  01025.jpg  01356.jpg  01687.jpg  02018.jpg  02349.jpg\t02680.jpg\n",
            "00033.jpg  00364.jpg  00695.jpg  01026.jpg  01357.jpg  01688.jpg  02019.jpg  02350.jpg\t02681.jpg\n",
            "00034.jpg  00365.jpg  00696.jpg  01027.jpg  01358.jpg  01689.jpg  02020.jpg  02351.jpg\t02682.jpg\n",
            "00035.jpg  00366.jpg  00697.jpg  01028.jpg  01359.jpg  01690.jpg  02021.jpg  02352.jpg\t02683.jpg\n",
            "00036.jpg  00367.jpg  00698.jpg  01029.jpg  01360.jpg  01691.jpg  02022.jpg  02353.jpg\t02684.jpg\n",
            "00037.jpg  00368.jpg  00699.jpg  01030.jpg  01361.jpg  01692.jpg  02023.jpg  02354.jpg\t02685.jpg\n",
            "00038.jpg  00369.jpg  00700.jpg  01031.jpg  01362.jpg  01693.jpg  02024.jpg  02355.jpg\t02686.jpg\n",
            "00039.jpg  00370.jpg  00701.jpg  01032.jpg  01363.jpg  01694.jpg  02025.jpg  02356.jpg\t02687.jpg\n",
            "00040.jpg  00371.jpg  00702.jpg  01033.jpg  01364.jpg  01695.jpg  02026.jpg  02357.jpg\t02688.jpg\n",
            "00041.jpg  00372.jpg  00703.jpg  01034.jpg  01365.jpg  01696.jpg  02027.jpg  02358.jpg\t02689.jpg\n",
            "00042.jpg  00373.jpg  00704.jpg  01035.jpg  01366.jpg  01697.jpg  02028.jpg  02359.jpg\t02690.jpg\n",
            "00043.jpg  00374.jpg  00705.jpg  01036.jpg  01367.jpg  01698.jpg  02029.jpg  02360.jpg\t02691.jpg\n",
            "00044.jpg  00375.jpg  00706.jpg  01037.jpg  01368.jpg  01699.jpg  02030.jpg  02361.jpg\t02692.jpg\n",
            "00045.jpg  00376.jpg  00707.jpg  01038.jpg  01369.jpg  01700.jpg  02031.jpg  02362.jpg\t02693.jpg\n",
            "00046.jpg  00377.jpg  00708.jpg  01039.jpg  01370.jpg  01701.jpg  02032.jpg  02363.jpg\t02694.jpg\n",
            "00047.jpg  00378.jpg  00709.jpg  01040.jpg  01371.jpg  01702.jpg  02033.jpg  02364.jpg\t02695.jpg\n",
            "00048.jpg  00379.jpg  00710.jpg  01041.jpg  01372.jpg  01703.jpg  02034.jpg  02365.jpg\t02696.jpg\n",
            "00049.jpg  00380.jpg  00711.jpg  01042.jpg  01373.jpg  01704.jpg  02035.jpg  02366.jpg\t02697.jpg\n",
            "00050.jpg  00381.jpg  00712.jpg  01043.jpg  01374.jpg  01705.jpg  02036.jpg  02367.jpg\t02698.jpg\n",
            "00051.jpg  00382.jpg  00713.jpg  01044.jpg  01375.jpg  01706.jpg  02037.jpg  02368.jpg\t02699.jpg\n",
            "00052.jpg  00383.jpg  00714.jpg  01045.jpg  01376.jpg  01707.jpg  02038.jpg  02369.jpg\t02700.jpg\n",
            "00053.jpg  00384.jpg  00715.jpg  01046.jpg  01377.jpg  01708.jpg  02039.jpg  02370.jpg\t02701.jpg\n",
            "00054.jpg  00385.jpg  00716.jpg  01047.jpg  01378.jpg  01709.jpg  02040.jpg  02371.jpg\t02702.jpg\n",
            "00055.jpg  00386.jpg  00717.jpg  01048.jpg  01379.jpg  01710.jpg  02041.jpg  02372.jpg\t02703.jpg\n",
            "00056.jpg  00387.jpg  00718.jpg  01049.jpg  01380.jpg  01711.jpg  02042.jpg  02373.jpg\t02704.jpg\n",
            "00057.jpg  00388.jpg  00719.jpg  01050.jpg  01381.jpg  01712.jpg  02043.jpg  02374.jpg\t02705.jpg\n",
            "00058.jpg  00389.jpg  00720.jpg  01051.jpg  01382.jpg  01713.jpg  02044.jpg  02375.jpg\t02706.jpg\n",
            "00059.jpg  00390.jpg  00721.jpg  01052.jpg  01383.jpg  01714.jpg  02045.jpg  02376.jpg\t02707.jpg\n",
            "00060.jpg  00391.jpg  00722.jpg  01053.jpg  01384.jpg  01715.jpg  02046.jpg  02377.jpg\t02708.jpg\n",
            "00061.jpg  00392.jpg  00723.jpg  01054.jpg  01385.jpg  01716.jpg  02047.jpg  02378.jpg\t02709.jpg\n",
            "00062.jpg  00393.jpg  00724.jpg  01055.jpg  01386.jpg  01717.jpg  02048.jpg  02379.jpg\t02710.jpg\n",
            "00063.jpg  00394.jpg  00725.jpg  01056.jpg  01387.jpg  01718.jpg  02049.jpg  02380.jpg\t02711.jpg\n",
            "00064.jpg  00395.jpg  00726.jpg  01057.jpg  01388.jpg  01719.jpg  02050.jpg  02381.jpg\t02712.jpg\n",
            "00065.jpg  00396.jpg  00727.jpg  01058.jpg  01389.jpg  01720.jpg  02051.jpg  02382.jpg\t02713.jpg\n",
            "00066.jpg  00397.jpg  00728.jpg  01059.jpg  01390.jpg  01721.jpg  02052.jpg  02383.jpg\t02714.jpg\n",
            "00067.jpg  00398.jpg  00729.jpg  01060.jpg  01391.jpg  01722.jpg  02053.jpg  02384.jpg\t02715.jpg\n",
            "00068.jpg  00399.jpg  00730.jpg  01061.jpg  01392.jpg  01723.jpg  02054.jpg  02385.jpg\t02716.jpg\n",
            "00069.jpg  00400.jpg  00731.jpg  01062.jpg  01393.jpg  01724.jpg  02055.jpg  02386.jpg\t02717.jpg\n",
            "00070.jpg  00401.jpg  00732.jpg  01063.jpg  01394.jpg  01725.jpg  02056.jpg  02387.jpg\t02718.jpg\n",
            "00071.jpg  00402.jpg  00733.jpg  01064.jpg  01395.jpg  01726.jpg  02057.jpg  02388.jpg\t02719.jpg\n",
            "00072.jpg  00403.jpg  00734.jpg  01065.jpg  01396.jpg  01727.jpg  02058.jpg  02389.jpg\t02720.jpg\n",
            "00073.jpg  00404.jpg  00735.jpg  01066.jpg  01397.jpg  01728.jpg  02059.jpg  02390.jpg\t02721.jpg\n",
            "00074.jpg  00405.jpg  00736.jpg  01067.jpg  01398.jpg  01729.jpg  02060.jpg  02391.jpg\t02722.jpg\n",
            "00075.jpg  00406.jpg  00737.jpg  01068.jpg  01399.jpg  01730.jpg  02061.jpg  02392.jpg\t02723.jpg\n",
            "00076.jpg  00407.jpg  00738.jpg  01069.jpg  01400.jpg  01731.jpg  02062.jpg  02393.jpg\t02724.jpg\n",
            "00077.jpg  00408.jpg  00739.jpg  01070.jpg  01401.jpg  01732.jpg  02063.jpg  02394.jpg\t02725.jpg\n",
            "00078.jpg  00409.jpg  00740.jpg  01071.jpg  01402.jpg  01733.jpg  02064.jpg  02395.jpg\t02726.jpg\n",
            "00079.jpg  00410.jpg  00741.jpg  01072.jpg  01403.jpg  01734.jpg  02065.jpg  02396.jpg\t02727.jpg\n",
            "00080.jpg  00411.jpg  00742.jpg  01073.jpg  01404.jpg  01735.jpg  02066.jpg  02397.jpg\t02728.jpg\n",
            "00081.jpg  00412.jpg  00743.jpg  01074.jpg  01405.jpg  01736.jpg  02067.jpg  02398.jpg\t02729.jpg\n",
            "00082.jpg  00413.jpg  00744.jpg  01075.jpg  01406.jpg  01737.jpg  02068.jpg  02399.jpg\t02730.jpg\n",
            "00083.jpg  00414.jpg  00745.jpg  01076.jpg  01407.jpg  01738.jpg  02069.jpg  02400.jpg\t02731.jpg\n",
            "00084.jpg  00415.jpg  00746.jpg  01077.jpg  01408.jpg  01739.jpg  02070.jpg  02401.jpg\t02732.jpg\n",
            "00085.jpg  00416.jpg  00747.jpg  01078.jpg  01409.jpg  01740.jpg  02071.jpg  02402.jpg\t02733.jpg\n",
            "00086.jpg  00417.jpg  00748.jpg  01079.jpg  01410.jpg  01741.jpg  02072.jpg  02403.jpg\t02734.jpg\n",
            "00087.jpg  00418.jpg  00749.jpg  01080.jpg  01411.jpg  01742.jpg  02073.jpg  02404.jpg\t02735.jpg\n",
            "00088.jpg  00419.jpg  00750.jpg  01081.jpg  01412.jpg  01743.jpg  02074.jpg  02405.jpg\t02736.jpg\n",
            "00089.jpg  00420.jpg  00751.jpg  01082.jpg  01413.jpg  01744.jpg  02075.jpg  02406.jpg\t02737.jpg\n",
            "00090.jpg  00421.jpg  00752.jpg  01083.jpg  01414.jpg  01745.jpg  02076.jpg  02407.jpg\t02738.jpg\n",
            "00091.jpg  00422.jpg  00753.jpg  01084.jpg  01415.jpg  01746.jpg  02077.jpg  02408.jpg\t02739.jpg\n",
            "00092.jpg  00423.jpg  00754.jpg  01085.jpg  01416.jpg  01747.jpg  02078.jpg  02409.jpg\t02740.jpg\n",
            "00093.jpg  00424.jpg  00755.jpg  01086.jpg  01417.jpg  01748.jpg  02079.jpg  02410.jpg\t02741.jpg\n",
            "00094.jpg  00425.jpg  00756.jpg  01087.jpg  01418.jpg  01749.jpg  02080.jpg  02411.jpg\t02742.jpg\n",
            "00095.jpg  00426.jpg  00757.jpg  01088.jpg  01419.jpg  01750.jpg  02081.jpg  02412.jpg\t02743.jpg\n",
            "00096.jpg  00427.jpg  00758.jpg  01089.jpg  01420.jpg  01751.jpg  02082.jpg  02413.jpg\t02744.jpg\n",
            "00097.jpg  00428.jpg  00759.jpg  01090.jpg  01421.jpg  01752.jpg  02083.jpg  02414.jpg\t02745.jpg\n",
            "00098.jpg  00429.jpg  00760.jpg  01091.jpg  01422.jpg  01753.jpg  02084.jpg  02415.jpg\t02746.jpg\n",
            "00099.jpg  00430.jpg  00761.jpg  01092.jpg  01423.jpg  01754.jpg  02085.jpg  02416.jpg\t02747.jpg\n",
            "00100.jpg  00431.jpg  00762.jpg  01093.jpg  01424.jpg  01755.jpg  02086.jpg  02417.jpg\t02748.jpg\n",
            "00101.jpg  00432.jpg  00763.jpg  01094.jpg  01425.jpg  01756.jpg  02087.jpg  02418.jpg\t02749.jpg\n",
            "00102.jpg  00433.jpg  00764.jpg  01095.jpg  01426.jpg  01757.jpg  02088.jpg  02419.jpg\t02750.jpg\n",
            "00103.jpg  00434.jpg  00765.jpg  01096.jpg  01427.jpg  01758.jpg  02089.jpg  02420.jpg\t02751.jpg\n",
            "00104.jpg  00435.jpg  00766.jpg  01097.jpg  01428.jpg  01759.jpg  02090.jpg  02421.jpg\t02752.jpg\n",
            "00105.jpg  00436.jpg  00767.jpg  01098.jpg  01429.jpg  01760.jpg  02091.jpg  02422.jpg\t02753.jpg\n",
            "00106.jpg  00437.jpg  00768.jpg  01099.jpg  01430.jpg  01761.jpg  02092.jpg  02423.jpg\t02754.jpg\n",
            "00107.jpg  00438.jpg  00769.jpg  01100.jpg  01431.jpg  01762.jpg  02093.jpg  02424.jpg\t02755.jpg\n",
            "00108.jpg  00439.jpg  00770.jpg  01101.jpg  01432.jpg  01763.jpg  02094.jpg  02425.jpg\t02756.jpg\n",
            "00109.jpg  00440.jpg  00771.jpg  01102.jpg  01433.jpg  01764.jpg  02095.jpg  02426.jpg\t02757.jpg\n",
            "00110.jpg  00441.jpg  00772.jpg  01103.jpg  01434.jpg  01765.jpg  02096.jpg  02427.jpg\t02758.jpg\n",
            "00111.jpg  00442.jpg  00773.jpg  01104.jpg  01435.jpg  01766.jpg  02097.jpg  02428.jpg\t02759.jpg\n",
            "00112.jpg  00443.jpg  00774.jpg  01105.jpg  01436.jpg  01767.jpg  02098.jpg  02429.jpg\t02760.jpg\n",
            "00113.jpg  00444.jpg  00775.jpg  01106.jpg  01437.jpg  01768.jpg  02099.jpg  02430.jpg\t02761.jpg\n",
            "00114.jpg  00445.jpg  00776.jpg  01107.jpg  01438.jpg  01769.jpg  02100.jpg  02431.jpg\t02762.jpg\n",
            "00115.jpg  00446.jpg  00777.jpg  01108.jpg  01439.jpg  01770.jpg  02101.jpg  02432.jpg\t02763.jpg\n",
            "00116.jpg  00447.jpg  00778.jpg  01109.jpg  01440.jpg  01771.jpg  02102.jpg  02433.jpg\t02764.jpg\n",
            "00117.jpg  00448.jpg  00779.jpg  01110.jpg  01441.jpg  01772.jpg  02103.jpg  02434.jpg\t02765.jpg\n",
            "00118.jpg  00449.jpg  00780.jpg  01111.jpg  01442.jpg  01773.jpg  02104.jpg  02435.jpg\t02766.jpg\n",
            "00119.jpg  00450.jpg  00781.jpg  01112.jpg  01443.jpg  01774.jpg  02105.jpg  02436.jpg\t02767.jpg\n",
            "00120.jpg  00451.jpg  00782.jpg  01113.jpg  01444.jpg  01775.jpg  02106.jpg  02437.jpg\t02768.jpg\n",
            "00121.jpg  00452.jpg  00783.jpg  01114.jpg  01445.jpg  01776.jpg  02107.jpg  02438.jpg\t02769.jpg\n",
            "00122.jpg  00453.jpg  00784.jpg  01115.jpg  01446.jpg  01777.jpg  02108.jpg  02439.jpg\t02770.jpg\n",
            "00123.jpg  00454.jpg  00785.jpg  01116.jpg  01447.jpg  01778.jpg  02109.jpg  02440.jpg\t02771.jpg\n",
            "00124.jpg  00455.jpg  00786.jpg  01117.jpg  01448.jpg  01779.jpg  02110.jpg  02441.jpg\t02772.jpg\n",
            "00125.jpg  00456.jpg  00787.jpg  01118.jpg  01449.jpg  01780.jpg  02111.jpg  02442.jpg\t02773.jpg\n",
            "00126.jpg  00457.jpg  00788.jpg  01119.jpg  01450.jpg  01781.jpg  02112.jpg  02443.jpg\t02774.jpg\n",
            "00127.jpg  00458.jpg  00789.jpg  01120.jpg  01451.jpg  01782.jpg  02113.jpg  02444.jpg\t02775.jpg\n",
            "00128.jpg  00459.jpg  00790.jpg  01121.jpg  01452.jpg  01783.jpg  02114.jpg  02445.jpg\t02776.jpg\n",
            "00129.jpg  00460.jpg  00791.jpg  01122.jpg  01453.jpg  01784.jpg  02115.jpg  02446.jpg\t02777.jpg\n",
            "00130.jpg  00461.jpg  00792.jpg  01123.jpg  01454.jpg  01785.jpg  02116.jpg  02447.jpg\t02778.jpg\n",
            "00131.jpg  00462.jpg  00793.jpg  01124.jpg  01455.jpg  01786.jpg  02117.jpg  02448.jpg\t02779.jpg\n",
            "00132.jpg  00463.jpg  00794.jpg  01125.jpg  01456.jpg  01787.jpg  02118.jpg  02449.jpg\t02780.jpg\n",
            "00133.jpg  00464.jpg  00795.jpg  01126.jpg  01457.jpg  01788.jpg  02119.jpg  02450.jpg\t02781.jpg\n",
            "00134.jpg  00465.jpg  00796.jpg  01127.jpg  01458.jpg  01789.jpg  02120.jpg  02451.jpg\t02782.jpg\n",
            "00135.jpg  00466.jpg  00797.jpg  01128.jpg  01459.jpg  01790.jpg  02121.jpg  02452.jpg\t02783.jpg\n",
            "00136.jpg  00467.jpg  00798.jpg  01129.jpg  01460.jpg  01791.jpg  02122.jpg  02453.jpg\t02784.jpg\n",
            "00137.jpg  00468.jpg  00799.jpg  01130.jpg  01461.jpg  01792.jpg  02123.jpg  02454.jpg\t02785.jpg\n",
            "00138.jpg  00469.jpg  00800.jpg  01131.jpg  01462.jpg  01793.jpg  02124.jpg  02455.jpg\t02786.jpg\n",
            "00139.jpg  00470.jpg  00801.jpg  01132.jpg  01463.jpg  01794.jpg  02125.jpg  02456.jpg\t02787.jpg\n",
            "00140.jpg  00471.jpg  00802.jpg  01133.jpg  01464.jpg  01795.jpg  02126.jpg  02457.jpg\t02788.jpg\n",
            "00141.jpg  00472.jpg  00803.jpg  01134.jpg  01465.jpg  01796.jpg  02127.jpg  02458.jpg\t02789.jpg\n",
            "00142.jpg  00473.jpg  00804.jpg  01135.jpg  01466.jpg  01797.jpg  02128.jpg  02459.jpg\t02790.jpg\n",
            "00143.jpg  00474.jpg  00805.jpg  01136.jpg  01467.jpg  01798.jpg  02129.jpg  02460.jpg\t02791.jpg\n",
            "00144.jpg  00475.jpg  00806.jpg  01137.jpg  01468.jpg  01799.jpg  02130.jpg  02461.jpg\t02792.jpg\n",
            "00145.jpg  00476.jpg  00807.jpg  01138.jpg  01469.jpg  01800.jpg  02131.jpg  02462.jpg\t02793.jpg\n",
            "00146.jpg  00477.jpg  00808.jpg  01139.jpg  01470.jpg  01801.jpg  02132.jpg  02463.jpg\t02794.jpg\n",
            "00147.jpg  00478.jpg  00809.jpg  01140.jpg  01471.jpg  01802.jpg  02133.jpg  02464.jpg\t02795.jpg\n",
            "00148.jpg  00479.jpg  00810.jpg  01141.jpg  01472.jpg  01803.jpg  02134.jpg  02465.jpg\t02796.jpg\n",
            "00149.jpg  00480.jpg  00811.jpg  01142.jpg  01473.jpg  01804.jpg  02135.jpg  02466.jpg\t02797.jpg\n",
            "00150.jpg  00481.jpg  00812.jpg  01143.jpg  01474.jpg  01805.jpg  02136.jpg  02467.jpg\t02798.jpg\n",
            "00151.jpg  00482.jpg  00813.jpg  01144.jpg  01475.jpg  01806.jpg  02137.jpg  02468.jpg\t02799.jpg\n",
            "00152.jpg  00483.jpg  00814.jpg  01145.jpg  01476.jpg  01807.jpg  02138.jpg  02469.jpg\t02800.jpg\n",
            "00153.jpg  00484.jpg  00815.jpg  01146.jpg  01477.jpg  01808.jpg  02139.jpg  02470.jpg\t02801.jpg\n",
            "00154.jpg  00485.jpg  00816.jpg  01147.jpg  01478.jpg  01809.jpg  02140.jpg  02471.jpg\t02802.jpg\n",
            "00155.jpg  00486.jpg  00817.jpg  01148.jpg  01479.jpg  01810.jpg  02141.jpg  02472.jpg\t02803.jpg\n",
            "00156.jpg  00487.jpg  00818.jpg  01149.jpg  01480.jpg  01811.jpg  02142.jpg  02473.jpg\t02804.jpg\n",
            "00157.jpg  00488.jpg  00819.jpg  01150.jpg  01481.jpg  01812.jpg  02143.jpg  02474.jpg\t02805.jpg\n",
            "00158.jpg  00489.jpg  00820.jpg  01151.jpg  01482.jpg  01813.jpg  02144.jpg  02475.jpg\t02806.jpg\n",
            "00159.jpg  00490.jpg  00821.jpg  01152.jpg  01483.jpg  01814.jpg  02145.jpg  02476.jpg\t02807.jpg\n",
            "00160.jpg  00491.jpg  00822.jpg  01153.jpg  01484.jpg  01815.jpg  02146.jpg  02477.jpg\t02808.jpg\n",
            "00161.jpg  00492.jpg  00823.jpg  01154.jpg  01485.jpg  01816.jpg  02147.jpg  02478.jpg\t02809.jpg\n",
            "00162.jpg  00493.jpg  00824.jpg  01155.jpg  01486.jpg  01817.jpg  02148.jpg  02479.jpg\t02810.jpg\n",
            "00163.jpg  00494.jpg  00825.jpg  01156.jpg  01487.jpg  01818.jpg  02149.jpg  02480.jpg\t02811.jpg\n",
            "00164.jpg  00495.jpg  00826.jpg  01157.jpg  01488.jpg  01819.jpg  02150.jpg  02481.jpg\t02812.jpg\n",
            "00165.jpg  00496.jpg  00827.jpg  01158.jpg  01489.jpg  01820.jpg  02151.jpg  02482.jpg\t02813.jpg\n",
            "00166.jpg  00497.jpg  00828.jpg  01159.jpg  01490.jpg  01821.jpg  02152.jpg  02483.jpg\t02814.jpg\n",
            "00167.jpg  00498.jpg  00829.jpg  01160.jpg  01491.jpg  01822.jpg  02153.jpg  02484.jpg\t02815.jpg\n",
            "00168.jpg  00499.jpg  00830.jpg  01161.jpg  01492.jpg  01823.jpg  02154.jpg  02485.jpg\t02816.jpg\n",
            "00169.jpg  00500.jpg  00831.jpg  01162.jpg  01493.jpg  01824.jpg  02155.jpg  02486.jpg\t02817.jpg\n",
            "00170.jpg  00501.jpg  00832.jpg  01163.jpg  01494.jpg  01825.jpg  02156.jpg  02487.jpg\t02818.jpg\n",
            "00171.jpg  00502.jpg  00833.jpg  01164.jpg  01495.jpg  01826.jpg  02157.jpg  02488.jpg\t02819.jpg\n",
            "00172.jpg  00503.jpg  00834.jpg  01165.jpg  01496.jpg  01827.jpg  02158.jpg  02489.jpg\t02820.jpg\n",
            "00173.jpg  00504.jpg  00835.jpg  01166.jpg  01497.jpg  01828.jpg  02159.jpg  02490.jpg\t02821.jpg\n",
            "00174.jpg  00505.jpg  00836.jpg  01167.jpg  01498.jpg  01829.jpg  02160.jpg  02491.jpg\t02822.jpg\n",
            "00175.jpg  00506.jpg  00837.jpg  01168.jpg  01499.jpg  01830.jpg  02161.jpg  02492.jpg\t02823.jpg\n",
            "00176.jpg  00507.jpg  00838.jpg  01169.jpg  01500.jpg  01831.jpg  02162.jpg  02493.jpg\t02824.jpg\n",
            "00177.jpg  00508.jpg  00839.jpg  01170.jpg  01501.jpg  01832.jpg  02163.jpg  02494.jpg\t02825.jpg\n",
            "00178.jpg  00509.jpg  00840.jpg  01171.jpg  01502.jpg  01833.jpg  02164.jpg  02495.jpg\t02826.jpg\n",
            "00179.jpg  00510.jpg  00841.jpg  01172.jpg  01503.jpg  01834.jpg  02165.jpg  02496.jpg\t02827.jpg\n",
            "00180.jpg  00511.jpg  00842.jpg  01173.jpg  01504.jpg  01835.jpg  02166.jpg  02497.jpg\t02828.jpg\n",
            "00181.jpg  00512.jpg  00843.jpg  01174.jpg  01505.jpg  01836.jpg  02167.jpg  02498.jpg\t02829.jpg\n",
            "00182.jpg  00513.jpg  00844.jpg  01175.jpg  01506.jpg  01837.jpg  02168.jpg  02499.jpg\t02830.jpg\n",
            "00183.jpg  00514.jpg  00845.jpg  01176.jpg  01507.jpg  01838.jpg  02169.jpg  02500.jpg\t02831.jpg\n",
            "00184.jpg  00515.jpg  00846.jpg  01177.jpg  01508.jpg  01839.jpg  02170.jpg  02501.jpg\t02832.jpg\n",
            "00185.jpg  00516.jpg  00847.jpg  01178.jpg  01509.jpg  01840.jpg  02171.jpg  02502.jpg\t02833.jpg\n",
            "00186.jpg  00517.jpg  00848.jpg  01179.jpg  01510.jpg  01841.jpg  02172.jpg  02503.jpg\t02834.jpg\n",
            "00187.jpg  00518.jpg  00849.jpg  01180.jpg  01511.jpg  01842.jpg  02173.jpg  02504.jpg\t02835.jpg\n",
            "00188.jpg  00519.jpg  00850.jpg  01181.jpg  01512.jpg  01843.jpg  02174.jpg  02505.jpg\t02836.jpg\n",
            "00189.jpg  00520.jpg  00851.jpg  01182.jpg  01513.jpg  01844.jpg  02175.jpg  02506.jpg\t02837.jpg\n",
            "00190.jpg  00521.jpg  00852.jpg  01183.jpg  01514.jpg  01845.jpg  02176.jpg  02507.jpg\t02838.jpg\n",
            "00191.jpg  00522.jpg  00853.jpg  01184.jpg  01515.jpg  01846.jpg  02177.jpg  02508.jpg\t02839.jpg\n",
            "00192.jpg  00523.jpg  00854.jpg  01185.jpg  01516.jpg  01847.jpg  02178.jpg  02509.jpg\t02840.jpg\n",
            "00193.jpg  00524.jpg  00855.jpg  01186.jpg  01517.jpg  01848.jpg  02179.jpg  02510.jpg\t02841.jpg\n",
            "00194.jpg  00525.jpg  00856.jpg  01187.jpg  01518.jpg  01849.jpg  02180.jpg  02511.jpg\t02842.jpg\n",
            "00195.jpg  00526.jpg  00857.jpg  01188.jpg  01519.jpg  01850.jpg  02181.jpg  02512.jpg\t02843.jpg\n",
            "00196.jpg  00527.jpg  00858.jpg  01189.jpg  01520.jpg  01851.jpg  02182.jpg  02513.jpg\t02844.jpg\n",
            "00197.jpg  00528.jpg  00859.jpg  01190.jpg  01521.jpg  01852.jpg  02183.jpg  02514.jpg\t02845.jpg\n",
            "00198.jpg  00529.jpg  00860.jpg  01191.jpg  01522.jpg  01853.jpg  02184.jpg  02515.jpg\t02846.jpg\n",
            "00199.jpg  00530.jpg  00861.jpg  01192.jpg  01523.jpg  01854.jpg  02185.jpg  02516.jpg\t02847.jpg\n",
            "00200.jpg  00531.jpg  00862.jpg  01193.jpg  01524.jpg  01855.jpg  02186.jpg  02517.jpg\t02848.jpg\n",
            "00201.jpg  00532.jpg  00863.jpg  01194.jpg  01525.jpg  01856.jpg  02187.jpg  02518.jpg\t02849.jpg\n",
            "00202.jpg  00533.jpg  00864.jpg  01195.jpg  01526.jpg  01857.jpg  02188.jpg  02519.jpg\t02850.jpg\n",
            "00203.jpg  00534.jpg  00865.jpg  01196.jpg  01527.jpg  01858.jpg  02189.jpg  02520.jpg\t02851.jpg\n",
            "00204.jpg  00535.jpg  00866.jpg  01197.jpg  01528.jpg  01859.jpg  02190.jpg  02521.jpg\t02852.jpg\n",
            "00205.jpg  00536.jpg  00867.jpg  01198.jpg  01529.jpg  01860.jpg  02191.jpg  02522.jpg\t02853.jpg\n",
            "00206.jpg  00537.jpg  00868.jpg  01199.jpg  01530.jpg  01861.jpg  02192.jpg  02523.jpg\t02854.jpg\n",
            "00207.jpg  00538.jpg  00869.jpg  01200.jpg  01531.jpg  01862.jpg  02193.jpg  02524.jpg\t02855.jpg\n",
            "00208.jpg  00539.jpg  00870.jpg  01201.jpg  01532.jpg  01863.jpg  02194.jpg  02525.jpg\t02856.jpg\n",
            "00209.jpg  00540.jpg  00871.jpg  01202.jpg  01533.jpg  01864.jpg  02195.jpg  02526.jpg\t02857.jpg\n",
            "00210.jpg  00541.jpg  00872.jpg  01203.jpg  01534.jpg  01865.jpg  02196.jpg  02527.jpg\t02858.jpg\n",
            "00211.jpg  00542.jpg  00873.jpg  01204.jpg  01535.jpg  01866.jpg  02197.jpg  02528.jpg\t02859.jpg\n",
            "00212.jpg  00543.jpg  00874.jpg  01205.jpg  01536.jpg  01867.jpg  02198.jpg  02529.jpg\t02860.jpg\n",
            "00213.jpg  00544.jpg  00875.jpg  01206.jpg  01537.jpg  01868.jpg  02199.jpg  02530.jpg\t02861.jpg\n",
            "00214.jpg  00545.jpg  00876.jpg  01207.jpg  01538.jpg  01869.jpg  02200.jpg  02531.jpg\t02862.jpg\n",
            "00215.jpg  00546.jpg  00877.jpg  01208.jpg  01539.jpg  01870.jpg  02201.jpg  02532.jpg\t02863.jpg\n",
            "00216.jpg  00547.jpg  00878.jpg  01209.jpg  01540.jpg  01871.jpg  02202.jpg  02533.jpg\t02864.jpg\n",
            "00217.jpg  00548.jpg  00879.jpg  01210.jpg  01541.jpg  01872.jpg  02203.jpg  02534.jpg\t02865.jpg\n",
            "00218.jpg  00549.jpg  00880.jpg  01211.jpg  01542.jpg  01873.jpg  02204.jpg  02535.jpg\t02866.jpg\n",
            "00219.jpg  00550.jpg  00881.jpg  01212.jpg  01543.jpg  01874.jpg  02205.jpg  02536.jpg\t02867.jpg\n",
            "00220.jpg  00551.jpg  00882.jpg  01213.jpg  01544.jpg  01875.jpg  02206.jpg  02537.jpg\t02868.jpg\n",
            "00221.jpg  00552.jpg  00883.jpg  01214.jpg  01545.jpg  01876.jpg  02207.jpg  02538.jpg\t02869.jpg\n",
            "00222.jpg  00553.jpg  00884.jpg  01215.jpg  01546.jpg  01877.jpg  02208.jpg  02539.jpg\t02870.jpg\n",
            "00223.jpg  00554.jpg  00885.jpg  01216.jpg  01547.jpg  01878.jpg  02209.jpg  02540.jpg\t02871.jpg\n",
            "00224.jpg  00555.jpg  00886.jpg  01217.jpg  01548.jpg  01879.jpg  02210.jpg  02541.jpg\t02872.jpg\n",
            "00225.jpg  00556.jpg  00887.jpg  01218.jpg  01549.jpg  01880.jpg  02211.jpg  02542.jpg\t02873.jpg\n",
            "00226.jpg  00557.jpg  00888.jpg  01219.jpg  01550.jpg  01881.jpg  02212.jpg  02543.jpg\t02874.jpg\n",
            "00227.jpg  00558.jpg  00889.jpg  01220.jpg  01551.jpg  01882.jpg  02213.jpg  02544.jpg\t02875.jpg\n",
            "00228.jpg  00559.jpg  00890.jpg  01221.jpg  01552.jpg  01883.jpg  02214.jpg  02545.jpg\t02876.jpg\n",
            "00229.jpg  00560.jpg  00891.jpg  01222.jpg  01553.jpg  01884.jpg  02215.jpg  02546.jpg\t02877.jpg\n",
            "00230.jpg  00561.jpg  00892.jpg  01223.jpg  01554.jpg  01885.jpg  02216.jpg  02547.jpg\t02878.jpg\n",
            "00231.jpg  00562.jpg  00893.jpg  01224.jpg  01555.jpg  01886.jpg  02217.jpg  02548.jpg\t02879.jpg\n",
            "00232.jpg  00563.jpg  00894.jpg  01225.jpg  01556.jpg  01887.jpg  02218.jpg  02549.jpg\t02880.jpg\n",
            "00233.jpg  00564.jpg  00895.jpg  01226.jpg  01557.jpg  01888.jpg  02219.jpg  02550.jpg\t02881.jpg\n",
            "00234.jpg  00565.jpg  00896.jpg  01227.jpg  01558.jpg  01889.jpg  02220.jpg  02551.jpg\t02882.jpg\n",
            "00235.jpg  00566.jpg  00897.jpg  01228.jpg  01559.jpg  01890.jpg  02221.jpg  02552.jpg\t02883.jpg\n",
            "00236.jpg  00567.jpg  00898.jpg  01229.jpg  01560.jpg  01891.jpg  02222.jpg  02553.jpg\t02884.jpg\n",
            "00237.jpg  00568.jpg  00899.jpg  01230.jpg  01561.jpg  01892.jpg  02223.jpg  02554.jpg\t02885.jpg\n",
            "00238.jpg  00569.jpg  00900.jpg  01231.jpg  01562.jpg  01893.jpg  02224.jpg  02555.jpg\t02886.jpg\n",
            "00239.jpg  00570.jpg  00901.jpg  01232.jpg  01563.jpg  01894.jpg  02225.jpg  02556.jpg\t02887.jpg\n",
            "00240.jpg  00571.jpg  00902.jpg  01233.jpg  01564.jpg  01895.jpg  02226.jpg  02557.jpg\t02888.jpg\n",
            "00241.jpg  00572.jpg  00903.jpg  01234.jpg  01565.jpg  01896.jpg  02227.jpg  02558.jpg\t02889.jpg\n",
            "00242.jpg  00573.jpg  00904.jpg  01235.jpg  01566.jpg  01897.jpg  02228.jpg  02559.jpg\t02890.jpg\n",
            "00243.jpg  00574.jpg  00905.jpg  01236.jpg  01567.jpg  01898.jpg  02229.jpg  02560.jpg\t02891.jpg\n",
            "00244.jpg  00575.jpg  00906.jpg  01237.jpg  01568.jpg  01899.jpg  02230.jpg  02561.jpg\t02892.jpg\n",
            "00245.jpg  00576.jpg  00907.jpg  01238.jpg  01569.jpg  01900.jpg  02231.jpg  02562.jpg\t02893.jpg\n",
            "00246.jpg  00577.jpg  00908.jpg  01239.jpg  01570.jpg  01901.jpg  02232.jpg  02563.jpg\t02894.jpg\n",
            "00247.jpg  00578.jpg  00909.jpg  01240.jpg  01571.jpg  01902.jpg  02233.jpg  02564.jpg\t02895.jpg\n",
            "00248.jpg  00579.jpg  00910.jpg  01241.jpg  01572.jpg  01903.jpg  02234.jpg  02565.jpg\t02896.jpg\n",
            "00249.jpg  00580.jpg  00911.jpg  01242.jpg  01573.jpg  01904.jpg  02235.jpg  02566.jpg\t02897.jpg\n",
            "00250.jpg  00581.jpg  00912.jpg  01243.jpg  01574.jpg  01905.jpg  02236.jpg  02567.jpg\t02898.jpg\n",
            "00251.jpg  00582.jpg  00913.jpg  01244.jpg  01575.jpg  01906.jpg  02237.jpg  02568.jpg\t02899.jpg\n",
            "00252.jpg  00583.jpg  00914.jpg  01245.jpg  01576.jpg  01907.jpg  02238.jpg  02569.jpg\t02900.jpg\n",
            "00253.jpg  00584.jpg  00915.jpg  01246.jpg  01577.jpg  01908.jpg  02239.jpg  02570.jpg\t02901.jpg\n",
            "00254.jpg  00585.jpg  00916.jpg  01247.jpg  01578.jpg  01909.jpg  02240.jpg  02571.jpg\t02902.jpg\n",
            "00255.jpg  00586.jpg  00917.jpg  01248.jpg  01579.jpg  01910.jpg  02241.jpg  02572.jpg\t02903.jpg\n",
            "00256.jpg  00587.jpg  00918.jpg  01249.jpg  01580.jpg  01911.jpg  02242.jpg  02573.jpg\t02904.jpg\n",
            "00257.jpg  00588.jpg  00919.jpg  01250.jpg  01581.jpg  01912.jpg  02243.jpg  02574.jpg\t02905.jpg\n",
            "00258.jpg  00589.jpg  00920.jpg  01251.jpg  01582.jpg  01913.jpg  02244.jpg  02575.jpg\t02906.jpg\n",
            "00259.jpg  00590.jpg  00921.jpg  01252.jpg  01583.jpg  01914.jpg  02245.jpg  02576.jpg\t02907.jpg\n",
            "00260.jpg  00591.jpg  00922.jpg  01253.jpg  01584.jpg  01915.jpg  02246.jpg  02577.jpg\t02908.jpg\n",
            "00261.jpg  00592.jpg  00923.jpg  01254.jpg  01585.jpg  01916.jpg  02247.jpg  02578.jpg\t02909.jpg\n",
            "00262.jpg  00593.jpg  00924.jpg  01255.jpg  01586.jpg  01917.jpg  02248.jpg  02579.jpg\t02910.jpg\n",
            "00263.jpg  00594.jpg  00925.jpg  01256.jpg  01587.jpg  01918.jpg  02249.jpg  02580.jpg\t02911.jpg\n",
            "00264.jpg  00595.jpg  00926.jpg  01257.jpg  01588.jpg  01919.jpg  02250.jpg  02581.jpg\t02912.jpg\n",
            "00265.jpg  00596.jpg  00927.jpg  01258.jpg  01589.jpg  01920.jpg  02251.jpg  02582.jpg\t02913.jpg\n",
            "00266.jpg  00597.jpg  00928.jpg  01259.jpg  01590.jpg  01921.jpg  02252.jpg  02583.jpg\t02914.jpg\n",
            "00267.jpg  00598.jpg  00929.jpg  01260.jpg  01591.jpg  01922.jpg  02253.jpg  02584.jpg\t02915.jpg\n",
            "00268.jpg  00599.jpg  00930.jpg  01261.jpg  01592.jpg  01923.jpg  02254.jpg  02585.jpg\t02916.jpg\n",
            "00269.jpg  00600.jpg  00931.jpg  01262.jpg  01593.jpg  01924.jpg  02255.jpg  02586.jpg\t02917.jpg\n",
            "00270.jpg  00601.jpg  00932.jpg  01263.jpg  01594.jpg  01925.jpg  02256.jpg  02587.jpg\t02918.jpg\n",
            "00271.jpg  00602.jpg  00933.jpg  01264.jpg  01595.jpg  01926.jpg  02257.jpg  02588.jpg\t02919.jpg\n",
            "00272.jpg  00603.jpg  00934.jpg  01265.jpg  01596.jpg  01927.jpg  02258.jpg  02589.jpg\t02920.jpg\n",
            "00273.jpg  00604.jpg  00935.jpg  01266.jpg  01597.jpg  01928.jpg  02259.jpg  02590.jpg\t02921.jpg\n",
            "00274.jpg  00605.jpg  00936.jpg  01267.jpg  01598.jpg  01929.jpg  02260.jpg  02591.jpg\t02922.jpg\n",
            "00275.jpg  00606.jpg  00937.jpg  01268.jpg  01599.jpg  01930.jpg  02261.jpg  02592.jpg\t02923.jpg\n",
            "00276.jpg  00607.jpg  00938.jpg  01269.jpg  01600.jpg  01931.jpg  02262.jpg  02593.jpg\t02924.jpg\n",
            "00277.jpg  00608.jpg  00939.jpg  01270.jpg  01601.jpg  01932.jpg  02263.jpg  02594.jpg\t02925.jpg\n",
            "00278.jpg  00609.jpg  00940.jpg  01271.jpg  01602.jpg  01933.jpg  02264.jpg  02595.jpg\t02926.jpg\n",
            "00279.jpg  00610.jpg  00941.jpg  01272.jpg  01603.jpg  01934.jpg  02265.jpg  02596.jpg\t02927.jpg\n",
            "00280.jpg  00611.jpg  00942.jpg  01273.jpg  01604.jpg  01935.jpg  02266.jpg  02597.jpg\t02928.jpg\n",
            "00281.jpg  00612.jpg  00943.jpg  01274.jpg  01605.jpg  01936.jpg  02267.jpg  02598.jpg\t02929.jpg\n",
            "00282.jpg  00613.jpg  00944.jpg  01275.jpg  01606.jpg  01937.jpg  02268.jpg  02599.jpg\t02930.jpg\n",
            "00283.jpg  00614.jpg  00945.jpg  01276.jpg  01607.jpg  01938.jpg  02269.jpg  02600.jpg\t02931.jpg\n",
            "00284.jpg  00615.jpg  00946.jpg  01277.jpg  01608.jpg  01939.jpg  02270.jpg  02601.jpg\t02932.jpg\n",
            "00285.jpg  00616.jpg  00947.jpg  01278.jpg  01609.jpg  01940.jpg  02271.jpg  02602.jpg\t02933.jpg\n",
            "00286.jpg  00617.jpg  00948.jpg  01279.jpg  01610.jpg  01941.jpg  02272.jpg  02603.jpg\t02934.jpg\n",
            "00287.jpg  00618.jpg  00949.jpg  01280.jpg  01611.jpg  01942.jpg  02273.jpg  02604.jpg\t02935.jpg\n",
            "00288.jpg  00619.jpg  00950.jpg  01281.jpg  01612.jpg  01943.jpg  02274.jpg  02605.jpg\t02936.jpg\n",
            "00289.jpg  00620.jpg  00951.jpg  01282.jpg  01613.jpg  01944.jpg  02275.jpg  02606.jpg\t02937.jpg\n",
            "00290.jpg  00621.jpg  00952.jpg  01283.jpg  01614.jpg  01945.jpg  02276.jpg  02607.jpg\t02938.jpg\n",
            "00291.jpg  00622.jpg  00953.jpg  01284.jpg  01615.jpg  01946.jpg  02277.jpg  02608.jpg\t02939.jpg\n",
            "00292.jpg  00623.jpg  00954.jpg  01285.jpg  01616.jpg  01947.jpg  02278.jpg  02609.jpg\t02940.jpg\n",
            "00293.jpg  00624.jpg  00955.jpg  01286.jpg  01617.jpg  01948.jpg  02279.jpg  02610.jpg\t02941.jpg\n",
            "00294.jpg  00625.jpg  00956.jpg  01287.jpg  01618.jpg  01949.jpg  02280.jpg  02611.jpg\t02942.jpg\n",
            "00295.jpg  00626.jpg  00957.jpg  01288.jpg  01619.jpg  01950.jpg  02281.jpg  02612.jpg\t02943.jpg\n",
            "00296.jpg  00627.jpg  00958.jpg  01289.jpg  01620.jpg  01951.jpg  02282.jpg  02613.jpg\t02944.jpg\n",
            "00297.jpg  00628.jpg  00959.jpg  01290.jpg  01621.jpg  01952.jpg  02283.jpg  02614.jpg\t02945.jpg\n",
            "00298.jpg  00629.jpg  00960.jpg  01291.jpg  01622.jpg  01953.jpg  02284.jpg  02615.jpg\t02946.jpg\n",
            "00299.jpg  00630.jpg  00961.jpg  01292.jpg  01623.jpg  01954.jpg  02285.jpg  02616.jpg\t02947.jpg\n",
            "00300.jpg  00631.jpg  00962.jpg  01293.jpg  01624.jpg  01955.jpg  02286.jpg  02617.jpg\t02948.jpg\n",
            "00301.jpg  00632.jpg  00963.jpg  01294.jpg  01625.jpg  01956.jpg  02287.jpg  02618.jpg\t02949.jpg\n",
            "00302.jpg  00633.jpg  00964.jpg  01295.jpg  01626.jpg  01957.jpg  02288.jpg  02619.jpg\t02950.jpg\n",
            "00303.jpg  00634.jpg  00965.jpg  01296.jpg  01627.jpg  01958.jpg  02289.jpg  02620.jpg\t02951.jpg\n",
            "00304.jpg  00635.jpg  00966.jpg  01297.jpg  01628.jpg  01959.jpg  02290.jpg  02621.jpg\t02952.jpg\n",
            "00305.jpg  00636.jpg  00967.jpg  01298.jpg  01629.jpg  01960.jpg  02291.jpg  02622.jpg\t02953.jpg\n",
            "00306.jpg  00637.jpg  00968.jpg  01299.jpg  01630.jpg  01961.jpg  02292.jpg  02623.jpg\t02954.jpg\n",
            "00307.jpg  00638.jpg  00969.jpg  01300.jpg  01631.jpg  01962.jpg  02293.jpg  02624.jpg\t02955.jpg\n",
            "00308.jpg  00639.jpg  00970.jpg  01301.jpg  01632.jpg  01963.jpg  02294.jpg  02625.jpg\t02956.jpg\n",
            "00309.jpg  00640.jpg  00971.jpg  01302.jpg  01633.jpg  01964.jpg  02295.jpg  02626.jpg\t02957.jpg\n",
            "00310.jpg  00641.jpg  00972.jpg  01303.jpg  01634.jpg  01965.jpg  02296.jpg  02627.jpg\t02958.jpg\n",
            "00311.jpg  00642.jpg  00973.jpg  01304.jpg  01635.jpg  01966.jpg  02297.jpg  02628.jpg\t02959.jpg\n",
            "00312.jpg  00643.jpg  00974.jpg  01305.jpg  01636.jpg  01967.jpg  02298.jpg  02629.jpg\t02960.jpg\n",
            "00313.jpg  00644.jpg  00975.jpg  01306.jpg  01637.jpg  01968.jpg  02299.jpg  02630.jpg\t02961.jpg\n",
            "00314.jpg  00645.jpg  00976.jpg  01307.jpg  01638.jpg  01969.jpg  02300.jpg  02631.jpg\t02962.jpg\n",
            "00315.jpg  00646.jpg  00977.jpg  01308.jpg  01639.jpg  01970.jpg  02301.jpg  02632.jpg\t02963.jpg\n",
            "00316.jpg  00647.jpg  00978.jpg  01309.jpg  01640.jpg  01971.jpg  02302.jpg  02633.jpg\t02964.jpg\n",
            "00317.jpg  00648.jpg  00979.jpg  01310.jpg  01641.jpg  01972.jpg  02303.jpg  02634.jpg\t02965.jpg\n",
            "00318.jpg  00649.jpg  00980.jpg  01311.jpg  01642.jpg  01973.jpg  02304.jpg  02635.jpg\t02966.jpg\n",
            "00319.jpg  00650.jpg  00981.jpg  01312.jpg  01643.jpg  01974.jpg  02305.jpg  02636.jpg\t02967.jpg\n",
            "00320.jpg  00651.jpg  00982.jpg  01313.jpg  01644.jpg  01975.jpg  02306.jpg  02637.jpg\t02968.jpg\n",
            "00321.jpg  00652.jpg  00983.jpg  01314.jpg  01645.jpg  01976.jpg  02307.jpg  02638.jpg\t02969.jpg\n",
            "00322.jpg  00653.jpg  00984.jpg  01315.jpg  01646.jpg  01977.jpg  02308.jpg  02639.jpg\t02970.jpg\n",
            "00323.jpg  00654.jpg  00985.jpg  01316.jpg  01647.jpg  01978.jpg  02309.jpg  02640.jpg\t02971.jpg\n",
            "00324.jpg  00655.jpg  00986.jpg  01317.jpg  01648.jpg  01979.jpg  02310.jpg  02641.jpg\n",
            "00325.jpg  00656.jpg  00987.jpg  01318.jpg  01649.jpg  01980.jpg  02311.jpg  02642.jpg\n",
            "00326.jpg  00657.jpg  00988.jpg  01319.jpg  01650.jpg  01981.jpg  02312.jpg  02643.jpg\n",
            "00327.jpg  00658.jpg  00989.jpg  01320.jpg  01651.jpg  01982.jpg  02313.jpg  02644.jpg\n",
            "00328.jpg  00659.jpg  00990.jpg  01321.jpg  01652.jpg  01983.jpg  02314.jpg  02645.jpg\n",
            "00329.jpg  00660.jpg  00991.jpg  01322.jpg  01653.jpg  01984.jpg  02315.jpg  02646.jpg\n",
            "00330.jpg  00661.jpg  00992.jpg  01323.jpg  01654.jpg  01985.jpg  02316.jpg  02647.jpg\n",
            "00331.jpg  00662.jpg  00993.jpg  01324.jpg  01655.jpg  01986.jpg  02317.jpg  02648.jpg\n"
          ]
        }
      ]
    },
    {
      "cell_type": "code",
      "source": [
        "# Model Architecture\n",
        "def create_model():\n",
        "    base_model = EfficientNetB3(\n",
        "        include_top=False,\n",
        "        weights='imagenet',\n",
        "        input_shape=IMAGE_SIZE + (3,),\n",
        "        pooling='avg'\n",
        "    )\n",
        "    base_model.trainable = False\n",
        "\n",
        "    inputs = layers.Input(shape=IMAGE_SIZE + (3,))\n",
        "    x = base_model(inputs)\n",
        "    x = layers.BatchNormalization()(x)\n",
        "    x = layers.Dense(512, activation='swish',\n",
        "                    kernel_regularizer=regularizers.l2(1e-4))(x)\n",
        "    x = layers.Dropout(0.6)(x)\n",
        "    x = layers.Dense(256, activation='swish',\n",
        "                    kernel_regularizer=regularizers.l2(1e-4))(x)\n",
        "    x = layers.Dropout(0.5)(x)\n",
        "    outputs = layers.Dense(NUM_CLASSES, activation='softmax')(x)\n",
        "\n",
        "    model = tf.keras.Model(inputs, outputs)\n",
        "\n",
        "    model.compile(\n",
        "        optimizer=Adam(learning_rate=3e-4),\n",
        "        loss='sparse_categorical_crossentropy',\n",
        "        metrics=['accuracy', F1Score()]\n",
        "    )\n",
        "    return model"
      ],
      "metadata": {
        "id": "ewrBaSy2Y3x1"
      },
      "execution_count": 14,
      "outputs": []
    },
    {
      "cell_type": "code",
      "source": [
        "# Callbacks\n",
        "callbacks = [\n",
        "    ModelCheckpoint(\n",
        "        MODEL_DIR/'best_model.h5',\n",
        "        save_best_only=True,\n",
        "        monitor='val_f1_score',\n",
        "        mode='max',\n",
        "        save_weights_only=False\n",
        "    ),\n",
        "    ReduceLROnPlateau(\n",
        "        monitor='val_f1_score',\n",
        "        mode='max',\n",
        "        factor=0.5,\n",
        "        patience=5,\n",
        "        min_lr=1e-6\n",
        "    ),\n",
        "    EarlyStopping(\n",
        "        monitor='val_f1_score',\n",
        "        patience=15,\n",
        "        mode='max',\n",
        "        restore_best_weights=True\n",
        "    ),\n",
        "    CSVLogger(MODEL_DIR/'training_log.csv'),\n",
        "    LearningRateScheduler(lambda epoch: 3e-4 * 0.95 ** epoch)\n",
        "]"
      ],
      "metadata": {
        "id": "3z_U4CWnYzrh"
      },
      "execution_count": 15,
      "outputs": []
    },
    {
      "cell_type": "code",
      "source": [
        "# Training\n",
        "model = create_model()\n",
        "history = model.fit(\n",
        "    train_ds,\n",
        "    validation_data=val_ds,\n",
        "    epochs=EPOCHS,\n",
        "    callbacks=callbacks,\n",
        "    class_weight=class_weights\n",
        ")"
      ],
      "metadata": {
        "id": "FIQIQDNpYwvd",
        "colab": {
          "base_uri": "https://localhost:8080/"
        },
        "collapsed": true,
        "outputId": "500bfa14-2df3-4f71-9e85-91145060acb2"
      },
      "execution_count": 16,
      "outputs": [
        {
          "output_type": "stream",
          "name": "stdout",
          "text": [
            "Epoch 1/100\n",
            "\u001b[1m64/64\u001b[0m \u001b[32m━━━━━━━━━━━━━━━━━━━━\u001b[0m\u001b[37m\u001b[0m \u001b[1m0s\u001b[0m 979ms/step - accuracy: 0.0970 - f1_score: 0.8958 - loss: 2.7935"
          ]
        },
        {
          "output_type": "stream",
          "name": "stderr",
          "text": [
            "WARNING:absl:You are saving your model as an HDF5 file via `model.save()` or `keras.saving.save_model(model)`. This file format is considered legacy. We recommend using instead the native Keras format, e.g. `model.save('my_model.keras')` or `keras.saving.save_model(model, 'my_model.keras')`. \n"
          ]
        },
        {
          "output_type": "stream",
          "name": "stdout",
          "text": [
            "\b\b\b\b\b\b\b\b\b\b\b\b\b\b\b\b\b\b\b\b\b\b\b\b\b\b\b\b\b\b\b\b\b\b\b\b\b\b\b\b\b\b\b\b\b\b\b\b\b\b\b\b\b\b\b\b\b\b\b\b\b\b\b\b\b\b\b\b\b\b\b\b\b\b\b\b\b\b\b\b\b\b\b\b\b\b\b\b\b\b\b\b\b\r\u001b[1m64/64\u001b[0m \u001b[32m━━━━━━━━━━━━━━━━━━━━\u001b[0m\u001b[37m\u001b[0m \u001b[1m171s\u001b[0m 1s/step - accuracy: 0.0970 - f1_score: 0.8959 - loss: 2.7930 - val_accuracy: 0.1000 - val_f1_score: 0.9474 - val_loss: 2.4139 - learning_rate: 3.0000e-04\n",
            "Epoch 2/100\n",
            "\u001b[1m64/64\u001b[0m \u001b[32m━━━━━━━━━━━━━━━━━━━━\u001b[0m\u001b[37m\u001b[0m \u001b[1m74s\u001b[0m 374ms/step - accuracy: 0.1260 - f1_score: 0.9007 - loss: 2.6747 - val_accuracy: 0.1000 - val_f1_score: 0.9441 - val_loss: 2.4136 - learning_rate: 2.8500e-04\n",
            "Epoch 3/100\n",
            "\u001b[1m64/64\u001b[0m \u001b[32m━━━━━━━━━━━━━━━━━━━━\u001b[0m\u001b[37m\u001b[0m \u001b[1m38s\u001b[0m 323ms/step - accuracy: 0.1023 - f1_score: 0.9049 - loss: 2.6245 - val_accuracy: 0.1167 - val_f1_score: 0.9443 - val_loss: 2.4119 - learning_rate: 2.7075e-04\n",
            "Epoch 4/100\n",
            "\u001b[1m64/64\u001b[0m \u001b[32m━━━━━━━━━━━━━━━━━━━━\u001b[0m\u001b[37m\u001b[0m \u001b[1m23s\u001b[0m 355ms/step - accuracy: 0.1028 - f1_score: 0.8932 - loss: 2.5877 - val_accuracy: 0.0889 - val_f1_score: 0.9265 - val_loss: 2.4119 - learning_rate: 2.5721e-04\n",
            "Epoch 5/100\n",
            "\u001b[1m64/64\u001b[0m \u001b[32m━━━━━━━━━━━━━━━━━━━━\u001b[0m\u001b[37m\u001b[0m \u001b[1m21s\u001b[0m 321ms/step - accuracy: 0.0882 - f1_score: 0.9183 - loss: 2.5828 - val_accuracy: 0.0694 - val_f1_score: 0.9427 - val_loss: 2.4123 - learning_rate: 2.4435e-04\n",
            "Epoch 6/100\n",
            "\u001b[1m64/64\u001b[0m \u001b[32m━━━━━━━━━━━━━━━━━━━━\u001b[0m\u001b[37m\u001b[0m \u001b[1m27s\u001b[0m 426ms/step - accuracy: 0.1170 - f1_score: 0.8997 - loss: 2.5128 - val_accuracy: 0.1083 - val_f1_score: 0.5798 - val_loss: 2.4098 - learning_rate: 1.1607e-04\n",
            "Epoch 7/100\n",
            "\u001b[1m64/64\u001b[0m \u001b[32m━━━━━━━━━━━━━━━━━━━━\u001b[0m\u001b[37m\u001b[0m \u001b[1m35s\u001b[0m 324ms/step - accuracy: 0.0992 - f1_score: 0.9141 - loss: 2.5271 - val_accuracy: 0.0861 - val_f1_score: 0.9072 - val_loss: 2.4054 - learning_rate: 2.2053e-04\n",
            "Epoch 8/100\n",
            "\u001b[1m64/64\u001b[0m \u001b[32m━━━━━━━━━━━━━━━━━━━━\u001b[0m\u001b[37m\u001b[0m \u001b[1m21s\u001b[0m 336ms/step - accuracy: 0.1124 - f1_score: 0.8942 - loss: 2.5382 - val_accuracy: 0.1111 - val_f1_score: 0.9458 - val_loss: 2.4123 - learning_rate: 2.0950e-04\n",
            "Epoch 9/100\n",
            "\u001b[1m64/64\u001b[0m \u001b[32m━━━━━━━━━━━━━━━━━━━━\u001b[0m\u001b[37m\u001b[0m \u001b[1m20s\u001b[0m 320ms/step - accuracy: 0.1078 - f1_score: 0.9196 - loss: 2.5276 - val_accuracy: 0.1139 - val_f1_score: 0.9427 - val_loss: 2.4063 - learning_rate: 1.9903e-04\n",
            "Epoch 10/100\n",
            "\u001b[1m64/64\u001b[0m \u001b[32m━━━━━━━━━━━━━━━━━━━━\u001b[0m\u001b[37m\u001b[0m \u001b[1m24s\u001b[0m 369ms/step - accuracy: 0.0993 - f1_score: 0.9034 - loss: 2.5379 - val_accuracy: 0.0917 - val_f1_score: 0.9474 - val_loss: 2.4089 - learning_rate: 1.8907e-04\n",
            "Epoch 11/100\n",
            "\u001b[1m64/64\u001b[0m \u001b[32m━━━━━━━━━━━━━━━━━━━━\u001b[0m\u001b[37m\u001b[0m \u001b[1m41s\u001b[0m 366ms/step - accuracy: 0.0984 - f1_score: 0.8956 - loss: 2.5185 - val_accuracy: 0.1000 - val_f1_score: 0.9474 - val_loss: 2.4066 - learning_rate: 8.9811e-05\n",
            "Epoch 12/100\n",
            "\u001b[1m64/64\u001b[0m \u001b[32m━━━━━━━━━━━━━━━━━━━━\u001b[0m\u001b[37m\u001b[0m \u001b[1m39s\u001b[0m 333ms/step - accuracy: 0.1031 - f1_score: 0.9058 - loss: 2.4984 - val_accuracy: 0.1222 - val_f1_score: 0.9472 - val_loss: 2.4080 - learning_rate: 1.7064e-04\n",
            "Epoch 13/100\n",
            "\u001b[1m64/64\u001b[0m \u001b[32m━━━━━━━━━━━━━━━━━━━━\u001b[0m\u001b[37m\u001b[0m \u001b[1m0s\u001b[0m 298ms/step - accuracy: 0.1251 - f1_score: 0.9077 - loss: 2.4995"
          ]
        },
        {
          "output_type": "stream",
          "name": "stderr",
          "text": [
            "WARNING:absl:You are saving your model as an HDF5 file via `model.save()` or `keras.saving.save_model(model)`. This file format is considered legacy. We recommend using instead the native Keras format, e.g. `model.save('my_model.keras')` or `keras.saving.save_model(model, 'my_model.keras')`. \n"
          ]
        },
        {
          "output_type": "stream",
          "name": "stdout",
          "text": [
            "\b\b\b\b\b\b\b\b\b\b\b\b\b\b\b\b\b\b\b\b\b\b\b\b\b\b\b\b\b\b\b\b\b\b\b\b\b\b\b\b\b\b\b\b\b\b\b\b\b\b\b\b\b\b\b\b\b\b\b\b\b\b\b\b\b\b\b\b\b\b\b\b\b\b\b\b\b\b\b\b\b\b\b\b\b\b\b\b\b\b\b\b\b\r\u001b[1m64/64\u001b[0m \u001b[32m━━━━━━━━━━━━━━━━━━━━\u001b[0m\u001b[37m\u001b[0m \u001b[1m26s\u001b[0m 412ms/step - accuracy: 0.1248 - f1_score: 0.9076 - loss: 2.4994 - val_accuracy: 0.1083 - val_f1_score: 0.9501 - val_loss: 2.4058 - learning_rate: 1.6211e-04\n",
            "Epoch 14/100\n",
            "\u001b[1m64/64\u001b[0m \u001b[32m━━━━━━━━━━━━━━━━━━━━\u001b[0m\u001b[37m\u001b[0m \u001b[1m36s\u001b[0m 329ms/step - accuracy: 0.0886 - f1_score: 0.9099 - loss: 2.5070 - val_accuracy: 0.1056 - val_f1_score: 0.9427 - val_loss: 2.4164 - learning_rate: 1.5400e-04\n",
            "Epoch 15/100\n",
            "\u001b[1m64/64\u001b[0m \u001b[32m━━━━━━━━━━━━━━━━━━━━\u001b[0m\u001b[37m\u001b[0m \u001b[1m22s\u001b[0m 342ms/step - accuracy: 0.1065 - f1_score: 0.8947 - loss: 2.4940 - val_accuracy: 0.1111 - val_f1_score: 0.9381 - val_loss: 2.4034 - learning_rate: 1.4630e-04\n",
            "Epoch 16/100\n",
            "\u001b[1m64/64\u001b[0m \u001b[32m━━━━━━━━━━━━━━━━━━━━\u001b[0m\u001b[37m\u001b[0m \u001b[1m23s\u001b[0m 361ms/step - accuracy: 0.0993 - f1_score: 0.8916 - loss: 2.5048 - val_accuracy: 0.1028 - val_f1_score: 0.6895 - val_loss: 2.4107 - learning_rate: 1.3899e-04\n",
            "Epoch 17/100\n",
            "\u001b[1m64/64\u001b[0m \u001b[32m━━━━━━━━━━━━━━━━━━━━\u001b[0m\u001b[37m\u001b[0m \u001b[1m41s\u001b[0m 361ms/step - accuracy: 0.0961 - f1_score: 0.8999 - loss: 2.4776 - val_accuracy: 0.0972 - val_f1_score: 0.9474 - val_loss: 2.4109 - learning_rate: 1.3204e-04\n",
            "Epoch 18/100\n",
            "\u001b[1m64/64\u001b[0m \u001b[32m━━━━━━━━━━━━━━━━━━━━\u001b[0m\u001b[37m\u001b[0m \u001b[1m39s\u001b[0m 339ms/step - accuracy: 0.1103 - f1_score: 0.8957 - loss: 2.4770 - val_accuracy: 0.1333 - val_f1_score: 0.6809 - val_loss: 2.4046 - learning_rate: 6.2718e-05\n",
            "Epoch 19/100\n",
            "\u001b[1m64/64\u001b[0m \u001b[32m━━━━━━━━━━━━━━━━━━━━\u001b[0m\u001b[37m\u001b[0m \u001b[1m21s\u001b[0m 327ms/step - accuracy: 0.1060 - f1_score: 0.9046 - loss: 2.4593 - val_accuracy: 0.1111 - val_f1_score: 0.9474 - val_loss: 2.4058 - learning_rate: 1.1916e-04\n",
            "Epoch 20/100\n",
            "\u001b[1m64/64\u001b[0m \u001b[32m━━━━━━━━━━━━━━━━━━━━\u001b[0m\u001b[37m\u001b[0m \u001b[1m23s\u001b[0m 365ms/step - accuracy: 0.1084 - f1_score: 0.9030 - loss: 2.4655 - val_accuracy: 0.1417 - val_f1_score: 0.9452 - val_loss: 2.3993 - learning_rate: 1.1321e-04\n",
            "Epoch 21/100\n",
            "\u001b[1m64/64\u001b[0m \u001b[32m━━━━━━━━━━━━━━━━━━━━\u001b[0m\u001b[37m\u001b[0m \u001b[1m38s\u001b[0m 324ms/step - accuracy: 0.0913 - f1_score: 0.9050 - loss: 2.4783 - val_accuracy: 0.1222 - val_f1_score: 0.9347 - val_loss: 2.4085 - learning_rate: 1.0755e-04\n",
            "Epoch 22/100\n",
            "\u001b[1m64/64\u001b[0m \u001b[32m━━━━━━━━━━━━━━━━━━━━\u001b[0m\u001b[37m\u001b[0m \u001b[1m22s\u001b[0m 350ms/step - accuracy: 0.1110 - f1_score: 0.9108 - loss: 2.4675 - val_accuracy: 0.1083 - val_f1_score: 0.6919 - val_loss: 2.4059 - learning_rate: 1.0217e-04\n",
            "Epoch 23/100\n",
            "\u001b[1m64/64\u001b[0m \u001b[32m━━━━━━━━━━━━━━━━━━━━\u001b[0m\u001b[37m\u001b[0m \u001b[1m43s\u001b[0m 374ms/step - accuracy: 0.1123 - f1_score: 0.8994 - loss: 2.4616 - val_accuracy: 0.1139 - val_f1_score: 0.9063 - val_loss: 2.4113 - learning_rate: 4.8530e-05\n",
            "Epoch 24/100\n",
            "\u001b[1m64/64\u001b[0m \u001b[32m━━━━━━━━━━━━━━━━━━━━\u001b[0m\u001b[37m\u001b[0m \u001b[1m39s\u001b[0m 339ms/step - accuracy: 0.1047 - f1_score: 0.9109 - loss: 2.4692 - val_accuracy: 0.1250 - val_f1_score: 0.8642 - val_loss: 2.4026 - learning_rate: 9.2207e-05\n",
            "Epoch 25/100\n",
            "\u001b[1m64/64\u001b[0m \u001b[32m━━━━━━━━━━━━━━━━━━━━\u001b[0m\u001b[37m\u001b[0m \u001b[1m43s\u001b[0m 368ms/step - accuracy: 0.1047 - f1_score: 0.9007 - loss: 2.4545 - val_accuracy: 0.1389 - val_f1_score: 0.9488 - val_loss: 2.4036 - learning_rate: 8.7597e-05\n",
            "Epoch 26/100\n",
            "\u001b[1m64/64\u001b[0m \u001b[32m━━━━━━━━━━━━━━━━━━━━\u001b[0m\u001b[37m\u001b[0m \u001b[1m21s\u001b[0m 330ms/step - accuracy: 0.1089 - f1_score: 0.8994 - loss: 2.4480 - val_accuracy: 0.1056 - val_f1_score: 0.9440 - val_loss: 2.4123 - learning_rate: 8.3217e-05\n",
            "Epoch 27/100\n",
            "\u001b[1m64/64\u001b[0m \u001b[32m━━━━━━━━━━━━━━━━━━━━\u001b[0m\u001b[37m\u001b[0m \u001b[1m22s\u001b[0m 335ms/step - accuracy: 0.0996 - f1_score: 0.9047 - loss: 2.4564 - val_accuracy: 0.1056 - val_f1_score: 0.9331 - val_loss: 2.4078 - learning_rate: 7.9056e-05\n",
            "Epoch 28/100\n",
            "\u001b[1m64/64\u001b[0m \u001b[32m━━━━━━━━━━━━━━━━━━━━\u001b[0m\u001b[37m\u001b[0m \u001b[1m23s\u001b[0m 361ms/step - accuracy: 0.1121 - f1_score: 0.9093 - loss: 2.4478 - val_accuracy: 0.1139 - val_f1_score: 0.9426 - val_loss: 2.4061 - learning_rate: 3.7552e-05\n"
          ]
        }
      ]
    },
    {
      "cell_type": "code",
      "source": [
        "# Fine-tuning\n",
        "model.load_weights(MODEL_DIR/'best_model.h5')\n",
        "model.trainable = True\n",
        "for layer in model.layers[1].layers[:-20]:\n",
        "    layer.trainable = False\n",
        "\n",
        "model.compile(\n",
        "    optimizer=Adam(learning_rate=1e-5),\n",
        "    loss='sparse_categorical_crossentropy',\n",
        "    metrics=['accuracy', F1Score()]\n",
        ")\n",
        "\n",
        "history_fine = model.fit(\n",
        "    train_ds,\n",
        "    validation_data=val_ds,\n",
        "    epochs=int(EPOCHS*0.3),\n",
        "    callbacks=callbacks,\n",
        "    class_weight=class_weights\n",
        ")"
      ],
      "metadata": {
        "id": "mb7eDKQMYuo8",
        "colab": {
          "base_uri": "https://localhost:8080/"
        },
        "collapsed": true,
        "outputId": "bcb5f48f-4b2d-4a61-d5f9-f36fbe1bcd57"
      },
      "execution_count": 17,
      "outputs": [
        {
          "output_type": "stream",
          "name": "stdout",
          "text": [
            "Epoch 1/30\n",
            "\u001b[1m64/64\u001b[0m \u001b[32m━━━━━━━━━━━━━━━━━━━━\u001b[0m\u001b[37m\u001b[0m \u001b[1m92s\u001b[0m 804ms/step - accuracy: 0.1126 - f1_score: 0.9183 - loss: 2.5705 - val_accuracy: 0.1139 - val_f1_score: 0.9231 - val_loss: 2.4074 - learning_rate: 3.0000e-04\n",
            "Epoch 2/30\n",
            "\u001b[1m64/64\u001b[0m \u001b[32m━━━━━━━━━━━━━━━━━━━━\u001b[0m\u001b[37m\u001b[0m \u001b[1m34s\u001b[0m 357ms/step - accuracy: 0.0838 - f1_score: 0.9134 - loss: 2.5846 - val_accuracy: 0.0972 - val_f1_score: 0.9443 - val_loss: 2.4237 - learning_rate: 2.8500e-04\n",
            "Epoch 3/30\n",
            "\u001b[1m64/64\u001b[0m \u001b[32m━━━━━━━━━━━━━━━━━━━━\u001b[0m\u001b[37m\u001b[0m \u001b[1m23s\u001b[0m 358ms/step - accuracy: 0.1076 - f1_score: 0.8731 - loss: 2.5341 - val_accuracy: 0.1056 - val_f1_score: 0.9379 - val_loss: 2.4143 - learning_rate: 2.7075e-04\n",
            "Epoch 4/30\n",
            "\u001b[1m64/64\u001b[0m \u001b[32m━━━━━━━━━━━━━━━━━━━━\u001b[0m\u001b[37m\u001b[0m \u001b[1m24s\u001b[0m 373ms/step - accuracy: 0.1043 - f1_score: 0.8959 - loss: 2.5486 - val_accuracy: 0.1083 - val_f1_score: 0.6641 - val_loss: 2.4096 - learning_rate: 2.5721e-04\n",
            "Epoch 5/30\n",
            "\u001b[1m64/64\u001b[0m \u001b[32m━━━━━━━━━━━━━━━━━━━━\u001b[0m\u001b[37m\u001b[0m \u001b[1m25s\u001b[0m 385ms/step - accuracy: 0.0952 - f1_score: 0.8995 - loss: 2.5292 - val_accuracy: 0.1028 - val_f1_score: 0.9474 - val_loss: 2.4079 - learning_rate: 2.4435e-04\n",
            "Epoch 6/30\n",
            "\u001b[1m64/64\u001b[0m \u001b[32m━━━━━━━━━━━━━━━━━━━━\u001b[0m\u001b[37m\u001b[0m \u001b[1m39s\u001b[0m 348ms/step - accuracy: 0.0837 - f1_score: 0.8992 - loss: 2.5508 - val_accuracy: 0.1056 - val_f1_score: 0.9488 - val_loss: 2.4080 - learning_rate: 2.3213e-04\n",
            "Epoch 7/30\n",
            "\u001b[1m64/64\u001b[0m \u001b[32m━━━━━━━━━━━━━━━━━━━━\u001b[0m\u001b[37m\u001b[0m \u001b[1m23s\u001b[0m 367ms/step - accuracy: 0.0932 - f1_score: 0.9088 - loss: 2.5143 - val_accuracy: 0.1056 - val_f1_score: 0.9458 - val_loss: 2.4134 - learning_rate: 2.2053e-04\n",
            "Epoch 8/30\n",
            "\u001b[1m64/64\u001b[0m \u001b[32m━━━━━━━━━━━━━━━━━━━━\u001b[0m\u001b[37m\u001b[0m \u001b[1m40s\u001b[0m 352ms/step - accuracy: 0.1008 - f1_score: 0.9069 - loss: 2.5076 - val_accuracy: 0.1167 - val_f1_score: 0.9426 - val_loss: 2.4081 - learning_rate: 2.0950e-04\n",
            "Epoch 9/30\n",
            "\u001b[1m64/64\u001b[0m \u001b[32m━━━━━━━━━━━━━━━━━━━━\u001b[0m\u001b[37m\u001b[0m \u001b[1m43s\u001b[0m 377ms/step - accuracy: 0.1032 - f1_score: 0.9002 - loss: 2.4913 - val_accuracy: 0.1056 - val_f1_score: 0.6856 - val_loss: 2.4099 - learning_rate: 1.9903e-04\n",
            "Epoch 10/30\n",
            "\u001b[1m64/64\u001b[0m \u001b[32m━━━━━━━━━━━━━━━━━━━━\u001b[0m\u001b[37m\u001b[0m \u001b[1m24s\u001b[0m 370ms/step - accuracy: 0.1067 - f1_score: 0.9115 - loss: 2.5087 - val_accuracy: 0.1278 - val_f1_score: 0.6873 - val_loss: 2.4005 - learning_rate: 1.8907e-04\n",
            "Epoch 11/30\n",
            "\u001b[1m64/64\u001b[0m \u001b[32m━━━━━━━━━━━━━━━━━━━━\u001b[0m\u001b[37m\u001b[0m \u001b[1m39s\u001b[0m 334ms/step - accuracy: 0.1197 - f1_score: 0.9125 - loss: 2.4691 - val_accuracy: 0.1167 - val_f1_score: 0.7222 - val_loss: 2.4116 - learning_rate: 8.9811e-05\n",
            "Epoch 12/30\n",
            "\u001b[1m64/64\u001b[0m \u001b[32m━━━━━━━━━━━━━━━━━━━━\u001b[0m\u001b[37m\u001b[0m \u001b[1m40s\u001b[0m 325ms/step - accuracy: 0.1054 - f1_score: 0.9164 - loss: 2.4684 - val_accuracy: 0.0972 - val_f1_score: 0.6769 - val_loss: 2.4049 - learning_rate: 1.7064e-04\n",
            "Epoch 13/30\n",
            "\u001b[1m64/64\u001b[0m \u001b[32m━━━━━━━━━━━━━━━━━━━━\u001b[0m\u001b[37m\u001b[0m \u001b[1m24s\u001b[0m 379ms/step - accuracy: 0.1125 - f1_score: 0.9043 - loss: 2.4704 - val_accuracy: 0.1056 - val_f1_score: 0.6970 - val_loss: 2.4164 - learning_rate: 1.6211e-04\n",
            "Epoch 14/30\n",
            "\u001b[1m64/64\u001b[0m \u001b[32m━━━━━━━━━━━━━━━━━━━━\u001b[0m\u001b[37m\u001b[0m \u001b[1m22s\u001b[0m 346ms/step - accuracy: 0.0979 - f1_score: 0.9022 - loss: 2.4892 - val_accuracy: 0.1056 - val_f1_score: 0.9426 - val_loss: 2.4069 - learning_rate: 1.5400e-04\n",
            "Epoch 15/30\n",
            "\u001b[1m64/64\u001b[0m \u001b[32m━━━━━━━━━━━━━━━━━━━━\u001b[0m\u001b[37m\u001b[0m \u001b[1m21s\u001b[0m 328ms/step - accuracy: 0.1121 - f1_score: 0.9016 - loss: 2.4726 - val_accuracy: 0.1028 - val_f1_score: 0.6945 - val_loss: 2.4031 - learning_rate: 1.4630e-04\n",
            "Epoch 16/30\n",
            "\u001b[1m64/64\u001b[0m \u001b[32m━━━━━━━━━━━━━━━━━━━━\u001b[0m\u001b[37m\u001b[0m \u001b[1m24s\u001b[0m 378ms/step - accuracy: 0.0991 - f1_score: 0.8890 - loss: 2.4613 - val_accuracy: 0.1194 - val_f1_score: 0.9485 - val_loss: 2.4024 - learning_rate: 6.9494e-05\n",
            "Epoch 17/30\n",
            "\u001b[1m64/64\u001b[0m \u001b[32m━━━━━━━━━━━━━━━━━━━━\u001b[0m\u001b[37m\u001b[0m \u001b[1m40s\u001b[0m 365ms/step - accuracy: 0.1263 - f1_score: 0.9054 - loss: 2.4579 - val_accuracy: 0.1417 - val_f1_score: 0.7110 - val_loss: 2.3967 - learning_rate: 1.3204e-04\n",
            "Epoch 18/30\n",
            "\u001b[1m64/64\u001b[0m \u001b[32m━━━━━━━━━━━━━━━━━━━━\u001b[0m\u001b[37m\u001b[0m \u001b[1m39s\u001b[0m 329ms/step - accuracy: 0.1045 - f1_score: 0.8965 - loss: 2.4724 - val_accuracy: 0.1361 - val_f1_score: 0.9486 - val_loss: 2.4041 - learning_rate: 1.2544e-04\n",
            "Epoch 19/30\n",
            "\u001b[1m64/64\u001b[0m \u001b[32m━━━━━━━━━━━━━━━━━━━━\u001b[0m\u001b[37m\u001b[0m \u001b[1m42s\u001b[0m 341ms/step - accuracy: 0.1106 - f1_score: 0.9016 - loss: 2.4712 - val_accuracy: 0.1306 - val_f1_score: 0.8627 - val_loss: 2.4048 - learning_rate: 1.1916e-04\n",
            "Epoch 20/30\n",
            "\u001b[1m64/64\u001b[0m \u001b[32m━━━━━━━━━━━━━━━━━━━━\u001b[0m\u001b[37m\u001b[0m \u001b[1m21s\u001b[0m 326ms/step - accuracy: 0.1086 - f1_score: 0.9017 - loss: 2.4694 - val_accuracy: 0.1194 - val_f1_score: 0.8966 - val_loss: 2.4103 - learning_rate: 1.1321e-04\n",
            "Epoch 21/30\n",
            "\u001b[1m64/64\u001b[0m \u001b[32m━━━━━━━━━━━━━━━━━━━━\u001b[0m\u001b[37m\u001b[0m \u001b[1m43s\u001b[0m 361ms/step - accuracy: 0.0980 - f1_score: 0.9101 - loss: 2.4791 - val_accuracy: 0.1278 - val_f1_score: 0.9158 - val_loss: 2.4028 - learning_rate: 5.3773e-05\n"
          ]
        }
      ]
    },
    {
      "cell_type": "code",
      "source": [
        "# Test-Time Augmentation\n",
        "def predict_with_tta(dataset, model, n_tta=5):\n",
        "    all_preds = []\n",
        "    for _ in range(n_tta):\n",
        "        preds = model.predict(dataset, verbose=0)\n",
        "        all_preds.append(preds)\n",
        "    avg_preds = np.mean(all_preds, axis=0)\n",
        "    final_preds = np.argmax(avg_preds, axis=1)\n",
        "    return final_preds"
      ],
      "metadata": {
        "id": "YazRxT3PYrmz"
      },
      "execution_count": 18,
      "outputs": []
    },
    {
      "cell_type": "code",
      "source": [
        "# Generate Predictions\n",
        "test_preds = predict_with_tta(test_ds, model, n_tta=7)\n",
        "\n",
        "# Create Submission\n",
        "submission = pd.DataFrame({\n",
        "    'Id': test_df['Image'].str.replace('.jpg', ''),\n",
        "    'Predicted': test_preds\n",
        "})"
      ],
      "metadata": {
        "id": "1tR-fdRt3LjC"
      },
      "execution_count": 19,
      "outputs": []
    },
    {
      "cell_type": "markdown",
      "source": [
        "# Submission"
      ],
      "metadata": {
        "id": "wA7YsU3ODz4C"
      }
    },
    {
      "cell_type": "code",
      "source": [
        "# Ensure exactly 598 entries\n",
        "submission = submission.head(598)\n",
        "submission.to_csv(MODEL_DIR/'submission.csv', index=False)\n",
        "print(\"Submission saved successfully!\")"
      ],
      "metadata": {
        "id": "--hI1TIyYpJ8",
        "colab": {
          "base_uri": "https://localhost:8080/"
        },
        "outputId": "a4e3ead0-f72d-47e6-e091-f8a1c5cf67fb"
      },
      "execution_count": 20,
      "outputs": [
        {
          "output_type": "stream",
          "name": "stdout",
          "text": [
            "Submission saved successfully!\n"
          ]
        }
      ]
    },
    {
      "cell_type": "code",
      "source": [
        "print(submission)"
      ],
      "metadata": {
        "colab": {
          "base_uri": "https://localhost:8080/"
        },
        "id": "FRLeXP1AD4UT",
        "outputId": "52c2e113-159e-4888-eed5-1df74866e770"
      },
      "execution_count": 23,
      "outputs": [
        {
          "output_type": "stream",
          "name": "stdout",
          "text": [
            "        Id  Predicted\n",
            "0    02372          5\n",
            "1    02373          5\n",
            "2    02374          5\n",
            "3    02375          5\n",
            "4    02376          8\n",
            "..     ...        ...\n",
            "593  02967          5\n",
            "594  02968          5\n",
            "595  02969          8\n",
            "596  02970          5\n",
            "597  02971          5\n",
            "\n",
            "[598 rows x 2 columns]\n"
          ]
        }
      ]
    },
    {
      "cell_type": "markdown",
      "source": [
        "# F1 score"
      ],
      "metadata": {
        "id": "fgYwzTmCDwXr"
      }
    },
    {
      "cell_type": "code",
      "source": [
        "# Print F1 score for training and validation sets\n",
        "print(\"Training F1 Score:\", history.history['f1_score'][-1])\n",
        "print(\"Validation F1 Score:\", history.history['val_f1_score'][-1])"
      ],
      "metadata": {
        "colab": {
          "base_uri": "https://localhost:8080/"
        },
        "id": "jy4KTp3iDq15",
        "outputId": "f7822d43-fc4a-4526-bcd7-d42e0f2d45b3"
      },
      "execution_count": 22,
      "outputs": [
        {
          "output_type": "stream",
          "name": "stdout",
          "text": [
            "Training F1 Score: 0.9086006283760071\n",
            "Validation F1 Score: 0.9425625205039978\n"
          ]
        }
      ]
    }
  ]
}